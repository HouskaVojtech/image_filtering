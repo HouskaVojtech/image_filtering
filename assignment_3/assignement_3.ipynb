{
 "cells": [
  {
   "cell_type": "code",
   "execution_count": null,
   "outputs": [],
   "source": [
    "import numpy as np\n",
    "import ps_utils\n",
    "import numpy.linalg as la\n",
    "import matplotlib.pyplot as plt"
   ],
   "metadata": {
    "collapsed": false,
    "pycharm": {
     "name": "#%%\n",
     "is_executing": true
    }
   }
  },
  {
   "cell_type": "code",
   "execution_count": null,
   "id": "d8b4ad0e",
   "metadata": {
    "pycharm": {
     "name": "#%%\n",
     "is_executing": true
    }
   },
   "outputs": [],
   "source": [
    "# read Beethoven data\n",
    "I, mask, S = ps_utils.read_data_file('Beethoven')\n",
    "\n",
    "# get indices of non zero pixels in mask\n",
    "nz = np.where(mask > 0)\n",
    "m, n = mask.shape\n",
    "\n",
    "flat_mask = mask.flatten()\n",
    "Is = []\n",
    "for i in range(3):\n",
    "    Is.append(I[:, :, i].flatten())\n",
    "\n",
    "stacked_I = np.vstack(Is)\n",
    "\n",
    "J = stacked_I[:, flat_mask > 0]\n",
    "M = np.dot(la.inv(S), J)\n",
    "\n",
    "# The part bellow is not mine\n",
    "\n",
    "#get albedo as norm of M and normalize M\n",
    "Rho = la.norm(M, axis=0)\n",
    "N = M / np.tile(Rho, (3, 1))\n",
    "\n",
    "n1 = np.zeros((m, n))\n",
    "n2 = np.zeros((m, n))\n",
    "n3 = np.ones((m, n))\n",
    "\n",
    "n1[nz] = N[0, :]\n",
    "n2[nz] = N[1, :]\n",
    "n3[nz] = N[2, :]\n",
    "\n",
    "_, (ax1, ax2, ax3) = plt.subplots(1, 3)\n",
    "ax1.imshow(n1)\n",
    "ax2.imshow(n2)\n",
    "ax3.imshow(n3)\n",
    "plt.show()\n",
    "\n",
    "z = ps_utils.unbiased_integrate(n1, n2, n3, mask)\n",
    "ps_utils.display_surface_matplotlib(z)"
   ]
  },
  {
   "cell_type": "code",
   "execution_count": null,
   "outputs": [],
   "source": [
    "print('hi')"
   ],
   "metadata": {
    "collapsed": false,
    "pycharm": {
     "name": "#%%\n",
     "is_executing": true
    }
   }
  },
  {
   "cell_type": "code",
   "execution_count": null,
   "outputs": [],
   "source": [],
   "metadata": {
    "collapsed": false,
    "pycharm": {
     "name": "#%%\n"
    }
   }
  }
 ],
 "metadata": {
  "kernelspec": {
   "name": "python3",
   "language": "python",
   "display_name": "Python 3 (ipykernel)"
  },
  "language_info": {
   "codemirror_mode": {
    "name": "ipython",
    "version": 3
   },
   "file_extension": ".py",
   "mimetype": "text/x-python",
   "name": "python",
   "nbconvert_exporter": "python",
   "pygments_lexer": "ipython3",
   "version": "3.10.6"
  }
 },
 "nbformat": 4,
 "nbformat_minor": 5
}